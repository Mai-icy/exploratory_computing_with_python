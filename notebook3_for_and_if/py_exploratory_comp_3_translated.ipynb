{
 "cells": [
  {
   "cell_type": "markdown",
   "metadata": {},
   "source": [
    "<figure>\n",
    "  <IMG SRC=\"https://raw.githubusercontent.com/mbakker7/exploratory_computing_with_python/master/tudelft_logo.png\" WIDTH=250 ALIGN=\"right\">\n",
    "</figure>\n",
    "\n",
    "# Exploratory Computing with Python\n",
    "*Developed by Mark Bakker*"
   ]
  },
  {
   "cell_type": "markdown",
   "metadata": {},
   "source": [
    "## Notebook 3: `for` 循环与 `if/else` 语句\n",
    "由于我们将再次使用 numpy 和 matplotlib，我们首先导入它们。"
   ]
  },
  {
   "cell_type": "code",
   "execution_count": null,
   "metadata": {},
   "outputs": [],
   "source": [
    "%matplotlib inline\n",
    "import numpy as np\n",
    "import matplotlib.pyplot as plt"
   ]
  },
  {
   "cell_type": "markdown",
   "metadata": {},
   "source": [
    "### The `for` loop\n",
    "循环用于重复执行命令。循环的语法如下："
   ]
  },
  {
   "cell_type": "code",
   "execution_count": null,
   "metadata": {},
   "outputs": [],
   "source": [
    "for i in [0, 1, 2, 3, 4]:\n",
    "    print('Hello world, the value of i is', i)"
   ]
  },
  {
   "cell_type": "markdown",
   "metadata": {},
   "source": [
    "在上面的代码中，变量 i 遍历了列表 [0, 1, 2, 3, 4] 中的五个值。第一次循环时，i 的值为 0，第二次循环时，它的值为 1，依此类推，直到最后一次循环时，它的值为 4。请注意 for 循环的语法：在 for 语句的末尾需要加上冒号 (:)，之后需要缩进。不管你缩进多少个空格，只要在整个 for 循环中保持相同的缩进即可。Jupyter 笔记本会自动缩进 4 个空格，这被认为是良好的 Python 风格，所以建议使用 4 个空格。你可以在 for 循环中包含任意数量的代码行。要结束 for 循环，只需停止缩进即可。"
   ]
  },
  {
   "cell_type": "code",
   "execution_count": null,
   "metadata": {},
   "outputs": [],
   "source": [
    "for x in [0, 1, 2, 3]: \n",
    "    xsquared = x ** 2\n",
    "    print('x, xsquare', x, xsquared)\n",
    "print('We are done with the loop')"
   ]
  },
  {
   "cell_type": "markdown",
   "metadata": {},
   "source": [
    "\n",
    "循环遍历的值列表可以是任何内容，不一定非得是数字。for 循环只是逐一遍历列表中的所有值："
   ]
  },
  {
   "cell_type": "code",
   "execution_count": null,
   "metadata": {},
   "outputs": [],
   "source": [
    "for data in [20, 'mark', np.sqrt(10)]:\n",
    "    print('the value of data is:', data)"
   ]
  },
  {
   "cell_type": "markdown",
   "metadata": {},
   "source": [
    "当然，当列表非常长时，必须手动指定一个循环遍历的列表会非常不方便。例如，如果你想执行某个操作 100 次，你肯定不想手动输入从 0 到 100 的值列表。不过，Python 提供了一个方便的函数，叫做 range。你可以像遍历列表一样遍历 range。要循环 10 次，并从值 0 开始："
   ]
  },
  {
   "cell_type": "code",
   "execution_count": null,
   "metadata": {},
   "outputs": [],
   "source": [
    "for i in range(10):\n",
    "    print('the value of i is:', i)"
   ]
  },
  {
   "cell_type": "markdown",
   "metadata": {},
   "source": [
    "\n",
    "可以使用 list 函数将 range 转换为列表（但我们不会经常使用这种方式）。你可以只传递一个参数给 range，此时它将生成从 0 开始但不包括指定数字的范围。注意，range(10) 生成的范围是从 0 到 9 共 10 个数字。你还可以选择性地提供起始值和步长，类似于 np.arange 函数。"
   ]
  },
  {
   "cell_type": "code",
   "execution_count": null,
   "metadata": {},
   "outputs": [],
   "source": [
    "print('a range with 10 values:', list(range(10)))\n",
    "print('a range from 10 till 20', list(range(10, 20)))\n",
    "print('a range from 10 till 20 with steps of 2:', list(range(10, 20, 2)))"
   ]
  },
  {
   "cell_type": "markdown",
   "metadata": {},
   "source": [
    "循环可以用来填充数组。让我们计算 $y=\\cos(x)$，其中 $x$ 是一个从 0 到 $2\\pi$ 之间变化且包含 100 个点的数组。当然，我们已经知道可以通过语句 `y = np.cos(x)` 来完成这个计算。然而，有时这种方式不可行，我们需要通过循环来填充数组。首先，我们必须创建数组 `y`（例如，使用 `zeros_like` 函数将其初始化为全零的数组），然后通过遍历 `x` 的所有值填充数组，使得索引从 `0` 到 `x` 数组的长度。循环中的计数器（代码中的变量 `i`）用于作为填充数组的索引。"
   ]
  },
  {
   "cell_type": "code",
   "execution_count": null,
   "metadata": {},
   "outputs": [],
   "source": [
    "x = np.linspace(0, 2 * np.pi, 100)\n",
    "y = np.zeros_like(x)  # similar to zeros(shape(x))\n",
    "for i in range(len(x)):\n",
    "    y[i] = np.cos(x[i])\n",
    "plt.plot(x, y);"
   ]
  },
  {
   "cell_type": "markdown",
   "metadata": {},
   "source": [
    "\n",
    "循环在编程脚本中是非常有用的结构。每当你需要多次进行某个计算时，你应该立即想到：循环！"
   ]
  },
  {
   "cell_type": "markdown",
   "metadata": {},
   "source": [
    "练习 1. <a name=\"back1\"></a>第一个 for 循环\n",
    "创建一个包含月份名称的列表。创建第二个列表，包含每个月的天数（对于常规年份）。创建一个 for 循环，打印：\n",
    "\n",
    "The number of days in MONTH is XX days\n",
    "\n",
    "其中，当然，你需要为 MONTH 打印正确的月份名称，并为 XX 打印正确的天数。使用 f-strings。"
   ]
  },
  {
   "cell_type": "code",
   "execution_count": null,
   "metadata": {},
   "outputs": [],
   "source": [
    "months = [\"January\", \"February\", \"March\", \"April\", \"May\", \"June\", \n",
    "          \"July\", \"August\", \"September\", \"October\", \"November\", \"December\"]\n",
    "\n",
    "days_in_month = [31, 28, 31, 30, 31, 30, \n",
    "                 31, 31, 30, 31, 30, 31]\n",
    "\n",
    "for i in range(len(months)):\n",
    "    print(f\"The number of days in {months[i]} is {days_in_month[i]} days\")\n"
   ]
  },
  {
   "cell_type": "markdown",
   "metadata": {},
   "source": [
    "<a href=\"#ex1answer\">Answer for Exercise 1</a>"
   ]
  },
  {
   "cell_type": "markdown",
   "metadata": {},
   "source": [
    "### The `if` statement\n",
    "`if` 语句让你仅在 `if` 语句的结果为真时执行某个任务。例如："
   ]
  },
  {
   "cell_type": "code",
   "execution_count": null,
   "metadata": {},
   "outputs": [],
   "source": [
    "data = 4\n",
    "print('starting value:', data)\n",
    "if data < 6:\n",
    "    print('changing data in the first if-statement')\n",
    "    data = data + 2\n",
    "print('value after the first if-statement:', data)\n",
    "if data > 20:\n",
    "    print('changing data in the second if-statement')\n",
    "    data = 200\n",
    "print('value after the second if-statement:', data)  # data hasn't changed as data is not larger than 20"
   ]
  },
  {
   "cell_type": "markdown",
   "metadata": {},
   "source": [
    "请注意 `if` 语句的语法：它以 `if` 开头，后面跟着一个结果为 `True` 或 `False` 的表达式，然后是一个冒号。在冒号之后，你需要进行缩进，整个缩进的代码块（在这个例子中是两行代码）会在表达式为 `True` 时执行。当你停止缩进时，`if` 语句就结束了。回想一下第 2 个笔记本中，你可以使用大于 `>`、大于或等于 `>=`、等于 `==`、小于或等于 `<=`、小于 `<` 或不等于 `!=`。"
   ]
  },
  {
   "cell_type": "markdown",
   "metadata": {},
   "source": [
    "### The `if`/`else` statement\n",
    "`if` 语句后面可以跟一个 `else` 语句，当 `if` 后的条件为 `False` 时，将执行该 `else` 语句。例如："
   ]
  },
  {
   "cell_type": "code",
   "execution_count": null,
   "metadata": {},
   "outputs": [],
   "source": [
    "a = 4\n",
    "if a < 3:\n",
    "    print('a is smaller than 3')\n",
    "else:\n",
    "    print('a is not smaller than 3')"
   ]
  },
  {
   "cell_type": "markdown",
   "metadata": {},
   "source": [
    "你甚至可以通过添加一个或多个条件来扩展 `else`，使用 `elif` 命令，`elif` 是 “else if” 的缩写。"
   ]
  },
  {
   "cell_type": "code",
   "execution_count": null,
   "metadata": {},
   "outputs": [],
   "source": [
    "a = 4\n",
    "if a < 4:\n",
    "    print('a is smaller than 4')\n",
    "elif a > 4:\n",
    "    print('a is larger than 4')\n",
    "else:\n",
    "    print('a is equal to 4')"
   ]
  },
  {
   "cell_type": "markdown",
   "metadata": {},
   "source": [
    "\n",
    "与其在代码单元的顶部指定变量的值，你可以要求用户输入一个值，并使用 input 函数将该值存储在变量中。input 函数返回一个字符串，可以通过 float 函数将其转换为数字。运行下面的代码单元，测试当输入的值大于 4、小于 4 或等于 4 时它是否正常工作。"
   ]
  },
  {
   "cell_type": "code",
   "execution_count": null,
   "metadata": {},
   "outputs": [],
   "source": [
    "for i in range(3): # do this 3 times\n",
    "    a = float(input('Enter a value: '))\n",
    "    if a < 4:\n",
    "        print('the entered value is smaller than 4')\n",
    "    elif a > 4:\n",
    "        print('the entered value is larger than 4')\n",
    "    else:\n",
    "        print('the entered value is equal to 4')"
   ]
  },
  {
   "cell_type": "markdown",
   "metadata": {},
   "source": [
    "### 练习 2. <a name=\"back2\"></a>结合使用 `for` 循环和 `if` 条件判断\n",
    "思考以下函数\n",
    "\n",
    "$\\begin{split}\n",
    "y &= \\cos(x) \\qquad \\text{for} \\qquad x < 0 \\\\\n",
    "y &= \\exp(-x) \\qquad \\text{for} \\qquad x \\ge 0 \\\\\n",
    "\\end{split}$\n",
    "\n",
    "计算 $y$，使得 $x$ 从 $-2\\pi$ 到 $2\\pi$ 之间有 100 个点，并绘制图形。确保 $x$ 轴的范围是从 $-2\\pi$ 到 $2\\pi$。"
   ]
  },
  {
   "cell_type": "code",
   "execution_count": null,
   "metadata": {},
   "outputs": [],
   "source": [
    "import numpy as np\n",
    "import matplotlib.pyplot as plt\n",
    "\n",
    "x = np.linspace(-2 * np.pi, 2 * np.pi, 100)\n",
    "\n",
    "y = np.cos(x)\n",
    "\n",
    "plt.figure(figsize=(10, 5))\n",
    "plt.plot(x, y, label='y = cos(x)')\n",
    "\n",
    "plt.xlim(-2 * np.pi, 2 * np.pi)\n",
    "\n",
    "plt.title('y = cos(x)')\n",
    "plt.xlabel('x')\n",
    "plt.ylabel('y')\n",
    "plt.axhline(0, color='black', linewidth=0.5, ls='--')\n",
    "plt.axvline(0, color='black', linewidth=0.5, ls='--')\n",
    "plt.grid()\n",
    "plt.legend()\n",
    "plt.show()"
   ]
  },
  {
   "cell_type": "markdown",
   "metadata": {},
   "source": [
    "<a href=\"#ex2answer\">Answer for Exercise 2</a>"
   ]
  },
  {
   "cell_type": "markdown",
   "metadata": {},
   "source": [
    "### 练习 3. <a name=\"back3\"></a>加载并循环遍历温度数据  \n",
    "从数据文件 `holland_temperature.dat` 加载荷兰的温度数据。循环遍历所有月度温度，并打印一条信息，包括月份编号，以及说明该月份的平均温度是高于还是低于 10 度。"
   ]
  },
  {
   "cell_type": "code",
   "execution_count": null,
   "metadata": {},
   "outputs": [],
   "source": []
  },
  {
   "cell_type": "markdown",
   "metadata": {},
   "source": [
    "<a href=\"#ex3answer\">Answer for Exercise 3</a>"
   ]
  },
  {
   "cell_type": "markdown",
   "metadata": {},
   "source": [
    "### 循环与求和  \n",
    "循环的一个应用是计算数组中所有值的总和。例如，考虑包含 8 个值的数组 `data`。我们将计算 `data` 中所有值的总和。首先，我们定义一个变量 `datasum` 并将其初始值设为 0。接下来，我们遍历 `data` 中的所有值，并将每个值加到 `datasum` 中："
   ]
  },
  {
   "cell_type": "code",
   "execution_count": null,
   "metadata": {},
   "outputs": [],
   "source": [
    "data = np.array([1, 3, 2, 5, 7, 3, 4, 2])\n",
    "datasum = 0\n",
    "for i in range(len(data)):\n",
    "    datasum = datasum + data[i]\n",
    "    print('i, datasum: ', i, datasum)\n",
    "print('total sum of data: ', datasum)"
   ]
  },
  {
   "cell_type": "markdown",
   "metadata": {},
   "source": [
    "`datasum = datasum + data[i]`\n",
    "\n",
    "的意思是将 `data[i]` 加到 `datasum` 的当前值上，并将结果赋值给 `datasum`。实际上，对于同一语句有一种更简洁的语法：\n",
    "\n",
    "`datasum += data[i]`\n",
    "\n",
    "`+=` 命令的意思是将 `+=` 符号右侧的值加到左侧的值上。你可以使用你最习惯的语法（尽管 `+=` 被认为更好，并在某些情况下更高效）。"
   ]
  },
  {
   "cell_type": "markdown",
   "metadata": {},
   "source": [
    "\n",
    "练习 4. <a name=\"back4\"></a>累积总和\n",
    "\n",
    "对于上一个例子中的数据，使用循环计算累积总和并将其存储在一个数组中。因此，结果应该是一个与 data 长度相同的数组，其中第 i 项是数组 data 中所有值的总和，直到并包括 data[i]。打印数组 data 和累积总和数组到屏幕上。最后，通过使用 numpy 的 cumsum 函数检查你的答案，该函数应该给出与循环相同的结果。"
   ]
  },
  {
   "cell_type": "code",
   "execution_count": null,
   "metadata": {},
   "outputs": [],
   "source": [
    "import numpy as np\n",
    "\n",
    "data = np.array([1, 2, 3, 4, 5, 6, 7, 8])\n",
    "running_total = np.zeros_like(data)\n",
    "\n",
    "for i in range(len(data)):\n",
    "    if i == 0:\n",
    "        running_total[i] = data[i]\n",
    "    else:\n",
    "        running_total[i] = running_total[i - 1] + data[i]\n",
    "\n",
    "print(\"原始数据数组:\", data)\n",
    "print(\"累积总和数组:\", running_total)\n",
    "\n",
    "numpy_cumsum = np.cumsum(data)\n",
    "print(\"使用 numpy 的 cumsum 计算的累积总和:\", numpy_cumsum)\n"
   ]
  },
  {
   "cell_type": "markdown",
   "metadata": {},
   "source": [
    "<a href=\"#ex4answer\">Answer for Exercise 4</a>"
   ]
  },
  {
   "cell_type": "markdown",
   "metadata": {},
   "source": [
    "### 以困难的方式找到最大值  \n",
    "接下来，让我们在数组 `data` 中找到最大值及其索引。为了说明这一点，我们将通过使用循环和 `if` 语句以困难的方式来实现这一点。首先，我们创建一个变量 `maxvalue`，用来存储最大值，初始值设为一个非常小的数字；然后我们创建一个变量 `maxindex`，用来存储最大值的索引，初始值设为 `None`。接下来，我们遍历 `data` 中的所有值，每当找到一个比当前 `maxvalue` 更大的值时，就更新 `maxvalue` 和 `maxindex`。"
   ]
  },
  {
   "cell_type": "code",
   "execution_count": null,
   "metadata": {},
   "outputs": [],
   "source": [
    "maxvalue = -1e8\n",
    "maxindex = None\n",
    "for i in range(len(data)):\n",
    "    if data[i] > maxvalue:\n",
    "        maxvalue = data[i]\n",
    "        maxindex = i\n",
    "print('the maximum value is ', maxvalue)\n",
    "print('the index of the maximum value is ', maxindex)"
   ]
  },
  {
   "cell_type": "markdown",
   "metadata": {},
   "source": [
    "对于这个例子，通过查看 `data` 数组来检查这些数字是否正确是很简单的，但当 `data` 数组很大时，这变得更加困难。当然，`numpy` 包中有可用的函数来找到最大值和最大值的索引：`np.max` 返回数组的最大值，`np.argmax` 返回数组最大值的索引。对于最小值，也有类似的函数。"
   ]
  },
  {
   "cell_type": "code",
   "execution_count": null,
   "metadata": {},
   "outputs": [],
   "source": [
    "print('the maximum value is ', np.max(data))\n",
    "print('the index of the maximum value is ', np.argmax(data))"
   ]
  },
  {
   "cell_type": "markdown",
   "metadata": {},
   "source": [
    "### 练习 5. <a name=\"back5\"></a>最接近 15 度的月份  \n",
    "找到荷兰平均月温度最接近 15 度的月份（使用练习 3 中的数据）。按照上面描述的方法，遍历所有值，并在循环内使用 `if` 语句。你可能还想使用 `abs` 函数来计算一个数字的绝对值。通过使用几个不需要循环和 `if` 语句的 `numpy` 方法来检查你的答案。"
   ]
  },
  {
   "cell_type": "code",
   "execution_count": null,
   "metadata": {},
   "outputs": [],
   "source": [
    "import numpy as np\n",
    "\n",
    "months = np.array([\"January\", \"February\", \"March\", \"April\", \"May\", \"June\", \n",
    "                   \"July\", \"August\", \"September\", \"October\", \"November\", \"December\"])\n",
    "temperatures = np.array([3.5, 4.0, 7.5, 10.0, 14.0, 17.5, \n",
    "                         19.0, 18.5, 15.0, 11.0, 6.0, 4.5])  # 假设的温度数据\n",
    "\n",
    "closest_month = None\n",
    "closest_temp_diff = float('inf')\n",
    "\n",
    "for i in range(len(temperatures)):\n",
    "    temp_diff = abs(temperatures[i] - 15)\n",
    "    if temp_diff < closest_temp_diff:\n",
    "        closest_temp_diff = temp_diff\n",
    "        closest_month = months[i]\n",
    "\n",
    "\n",
    "print(f\"平均温度最接近 15 度的月份是: {closest_month}\")\n",
    "\n",
    "temp_diffs = np.abs(temperatures - 15)\n",
    "closest_index = np.argmin(temp_diffs)\n",
    "\n",
    "print(f\"使用 numpy 方法，平均温度最接近 15 度的月份是: {months[closest_index]}\")\n"
   ]
  },
  {
   "cell_type": "markdown",
   "metadata": {},
   "source": [
    "<a href=\"#ex5answer\">Answer for Exercise 5</a>"
   ]
  },
  {
   "cell_type": "markdown",
   "metadata": {},
   "source": [
    "### 嵌套循环  \n",
    "在循环内部也可以有其他循环，这被称为嵌套循环。例如，考虑下面的数组 `data`，它有 3 行 4 列。我们想要计算每一行的值的总和（也就是对列求和），并且我们将使用双重循环来实现这一点。首先，我们创建一个长度为 3 的零数组 `rowtotal`（每一行对应一个值）。接下来，我们循环遍历每一行。在循环内部，对于每一行，我们开始另一个循环，遍历所有列，并将该行的值加到 `rowtotal` 数组中。"
   ]
  },
  {
   "cell_type": "code",
   "execution_count": null,
   "metadata": {},
   "outputs": [],
   "source": [
    "data = np.array([[1, 2, 3, 5],\n",
    "                 [4, 8, 6, 4],\n",
    "                 [3, 5, 4, 6]])\n",
    "rowtotal = np.zeros(3)\n",
    "for irow in range(3):\n",
    "    for jcol in range(4):\n",
    "        rowtotal[irow] += data[irow, jcol]\n",
    "        #longer alternative:\n",
    "        #rowtotal[irow] = rowtotal[irow] + data[irow, jcol]\n",
    "print(rowtotal)"
   ]
  },
  {
   "cell_type": "markdown",
   "metadata": {},
   "source": [
    "在运行上述代码后，首先确保答案是正确的。接下来，请注意，在开始循环之前将 `rowtotal` 的值设置为 0 是很重要的，因为我们会将这些值相加以计算每一行的总和。在代码中，我们使用了两个循环，因此缩进了两次。\n",
    "\n",
    "`numpy` 有一个 `sum` 函数，可以计算整个数组的总和，或者通过指定 `axis` 关键字计算沿某个轴的总和（例如，沿行或列）。"
   ]
  },
  {
   "cell_type": "code",
   "execution_count": null,
   "metadata": {},
   "outputs": [],
   "source": [
    "print('sum of entire array:', np.sum(data))\n",
    "print('sum rows (axis=0):', np.sum(data, axis=0))\n",
    "print('sum columns (axis=1):', np.sum(data, axis=1))"
   ]
  },
  {
   "cell_type": "markdown",
   "metadata": {},
   "source": [
    "### `break` 和 `while`  \n",
    "一个常见的任务是找到一个值在有序表（例如列表或数组）中的位置。例如，确定数字 6 在有序序列 `[1, 4, 5, 8, 9]` 中落在两个数字之间。我知道，它位于 `5` 和 `8` 之间，但如果列表很长呢？为了找到在列表中的位置，我们需要遍历列表，并在找到位置后使用 `break` 退出循环。Python 提供了 `break` 命令来实现这一点。"
   ]
  },
  {
   "cell_type": "code",
   "execution_count": null,
   "metadata": {},
   "outputs": [],
   "source": [
    "x = [1, 4, 5, 8, 9]\n",
    "a = 6\n",
    "for i in range(len(x)):\n",
    "    if a < x[i]:\n",
    "        break\n",
    "print('a is between', x[i-1], 'and', x[i])"
   ]
  },
  {
   "cell_type": "markdown",
   "metadata": {},
   "source": [
    "还有另一种使用 while 循环进行编码的方法，如下所示："
   ]
  },
  {
   "cell_type": "code",
   "execution_count": null,
   "metadata": {},
   "outputs": [],
   "source": [
    "x = [1, 4, 5, 8, 9]\n",
    "a = 6\n",
    "i = 0\n",
    "while a >= x[i]:\n",
    "    i = i + 1\n",
    "print('a is between', x[i-1], 'and', x[i])"
   ]
  },
  {
   "cell_type": "markdown",
   "metadata": {},
   "source": [
    "在 `while` 循环中，比较是在循环开始时进行的，而计数器（在这种情况下是 `i`）则在循环内部更新。使用带有 `break` 的循环或带有计数器的 `while` 循环都可以正常工作，但在某些情况下，`while` 循环可能会很棘手，因为如果代码中存在错误，可能会导致无限循环。一旦进入无限循环（即永远不会停止），请点击窗口顶部的 [Kernel] 菜单项，然后选择 [Interrupt Kernel] 或 [Restart Kernel]。这将结束你的 Python 会话并启动一个新的会话。当你在 `while` 循环中打印某些内容到屏幕时，可能无法退出循环，你可能需要结束你的 Jupyter 会话（并可能丢失一些工作）。由于 `while` 循环中存在这些错误问题，因此建议在可能的情况下使用带有 `break` 的循环，而不是 `while` 循环。"
   ]
  },
  {
   "cell_type": "markdown",
   "metadata": {},
   "source": [
    "### 练习 6, <a name=\"back6\"></a>石油数据  \n",
    "文件 `oil_price.dat` 包含自 1985 年以来的每月油价。该文件包含三列：年份、月份和以欧元为单位的价格（来自欧洲银行网站）。绘制油价的图表（将数字放在横轴上；我们将在另一个笔记本中学习如何处理日期），并确定油价首次超过 40 欧元、超过 60 欧元和超过 80 欧元的月份和年份。你需要在屏幕上输出类似于 `油价首次在 yyyy 年 xx 月超过 40 欧元` 的内容，其中 `xx` 和 `yyyy` 是正确的月份和年份。使用双重循环。你能修改代码，使其输出月份名称而不是月份数字吗？"
   ]
  },
  {
   "cell_type": "code",
   "execution_count": null,
   "metadata": {},
   "outputs": [],
   "source": []
  },
  {
   "cell_type": "markdown",
   "metadata": {},
   "source": [
    "<a href=\"#ex6answer\">Answer for Exercise 6</a>"
   ]
  },
  {
   "cell_type": "markdown",
   "metadata": {},
   "source": [
    "### 字符串  \n",
    "字符串是一种非常多功能的数据类型，我们可以轻松地在整个笔记本中讨论字符串。我们只会有限地使用字符串，因此在这里对字符串的处理保持最低限度。我们已经使用字符串来指定图表轴上的名称或图例中的名称。字符串类似于数组或列表，因为字符串中的每个字符都有一个索引。可以访问每个字符或字符范围，但它们不能被更改（因此它们更像元组而不是数组或列表）。字符串也有长度。"
   ]
  },
  {
   "cell_type": "code",
   "execution_count": null,
   "metadata": {},
   "outputs": [],
   "source": [
    "text1 = 'Goodmorning everybody'\n",
    "print(len(text1))\n",
    "print(text1[0])\n",
    "print(text1[0:12])"
   ]
  },
  {
   "cell_type": "markdown",
   "metadata": {},
   "source": [
    "当你将两个字符串相加时，它们会像列表一样连接在一起。当你想将文本与变量组合时，首先需要将变量转换为字符串，然后再将两个字符串相加："
   ]
  },
  {
   "cell_type": "code",
   "execution_count": null,
   "metadata": {},
   "outputs": [],
   "source": [
    "text1 = 'Goodmorning everybody'\n",
    "newtext = text1 + ' in the class'  # Adding two srings\n",
    "print(newtext)\n",
    "a = 7\n",
    "mes = 'The magic number is ' + str(a)  # Combining strings and numbers\n",
    "print(mes)"
   ]
  },
  {
   "cell_type": "markdown",
   "metadata": {},
   "source": [
    "字符串的比较方式与数字的比较方式相同。比较从字符串中的第一个字符开始，仅在两个字符串的首字符相等时才会移动到下一个字符。字母 'a' 小于 'b'，'b' 小于 'c'，依此类推。但要注意，在字符顺序中，大写字符小于所有小写字符！因此，'A' 小于 'a'，同时也小于 'm' 或任何其他小写字符。确保你理解以下语句："
   ]
  },
  {
   "cell_type": "code",
   "execution_count": null,
   "metadata": {},
   "outputs": [],
   "source": [
    "print('delft' < 'eindhoven')  # True as 'd' is smaller than 'e'\n",
    "print('dalft' < 'delft')      # True as 'a' is smaller than 'e'\n",
    "print('delft' == 'Delft')     # False as lower and upper case are not equal\n",
    "print('Delft' < 'delft')      # True as 'D' is smaller than 'd'\n",
    "print('delft' > 'Eindhoven')  # Also True, as 'd' is larger than 'E' or any other upper case character"
   ]
  },
  {
   "cell_type": "markdown",
   "metadata": {},
   "source": [
    "字符串可以转换为大写或小写。"
   ]
  },
  {
   "cell_type": "code",
   "execution_count": null,
   "metadata": {},
   "outputs": [],
   "source": [
    "TU = 'TU Delft'\n",
    "print(TU)\n",
    "print(TU.lower())\n",
    "print(TU.upper())"
   ]
  },
  {
   "cell_type": "markdown",
   "metadata": {},
   "source": [
    "由多个单词组成的字符串可以使用 `split` 转换为单词列表。"
   ]
  },
  {
   "cell_type": "code",
   "execution_count": null,
   "metadata": {},
   "outputs": [],
   "source": [
    "sentence = 'This is a sentence containing a number of words'\n",
    "print('This is the sentence:', sentence)\n",
    "wordlist = sentence.split()\n",
    "print('This is the split sentence:', wordlist)\n",
    "print('All words may be printed seperately:')\n",
    "for word in wordlist:\n",
    "    print(word)"
   ]
  },
  {
   "cell_type": "markdown",
   "metadata": {},
   "source": [
    "### 练习 7. <a name=\"back7\"></a>在列表中找到你的名字的位置  \n",
    "使用循环找出你的名字在以下列表中落在两个名字之间的位置：  \n",
    "`['Aaldrich', 'Babette', 'Chris', 'Franka', 'Joe', 'Louisa', 'Pierre', 'Simone', 'Tarek', 'Yvonne', 'Zu']` 并将结果打印到屏幕上。"
   ]
  },
  {
   "cell_type": "code",
   "execution_count": null,
   "metadata": {},
   "outputs": [],
   "source": []
  },
  {
   "cell_type": "markdown",
   "metadata": {},
   "source": [
    "<a href=\"#ex7answer\">Answer for Exercise 7</a>"
   ]
  },
  {
   "cell_type": "markdown",
   "metadata": {},
   "source": [
    "### Answers to the exercises"
   ]
  },
  {
   "cell_type": "markdown",
   "metadata": {},
   "source": [
    "<a name=\"ex1answer\">Answer to Exercise 1</a>"
   ]
  },
  {
   "cell_type": "code",
   "execution_count": null,
   "metadata": {},
   "outputs": [],
   "source": [
    "months = ['January', 'February', 'March', 'April',\\\n",
    "          'May','June', 'July', 'August', 'September',\\\n",
    "          'October', 'November', 'December']\n",
    "days = [31, 28, 31, 30, 31, 30, 31, 31, 30, 31, 30, 31]\n",
    "for i in range(12):\n",
    "    print(f'The number of days in {months[i]} is {days[i]}')"
   ]
  },
  {
   "cell_type": "markdown",
   "metadata": {},
   "source": [
    "<a href=\"#back1\">Back to Exercise 1</a>\n",
    "\n",
    "<a name=\"ex2answer\">Answer to Exercise 2</a>"
   ]
  },
  {
   "cell_type": "code",
   "execution_count": null,
   "metadata": {},
   "outputs": [],
   "source": [
    "x = np.linspace(-2 * np.pi, 2 * np.pi, 100)\n",
    "y = np.zeros_like(x)\n",
    "for i in range(100):\n",
    "    if x[i] < 0:\n",
    "        y[i] = np.cos(x[i])\n",
    "    else:\n",
    "        y[i] = np.exp(-x[i])\n",
    "plt.plot(x, y)\n",
    "plt.xlim(-2 * np.pi, 2 * np.pi);"
   ]
  },
  {
   "cell_type": "markdown",
   "metadata": {},
   "source": [
    "<a href=\"#back2\">Back to Exercise 2</a>\n",
    "\n",
    "<a name=\"ex3answer\">Answer to Exercise 3</a>"
   ]
  },
  {
   "cell_type": "code",
   "execution_count": null,
   "metadata": {},
   "outputs": [],
   "source": [
    "temperature = np.loadtxt('holland_temperature.dat')\n",
    "for i in range(len(temperature)):\n",
    "    if temperature[i] < 10:\n",
    "        print('average monthly temperature in month ', i + 1, ' is less than 10 degrees')\n",
    "    else:\n",
    "        print('average monthly temperature in month ', i + 1, ' is more than 10 degrees')"
   ]
  },
  {
   "cell_type": "markdown",
   "metadata": {},
   "source": [
    "<a href=\"#back3\">Back to Exercise 3</a>\n",
    "\n",
    "<a name=\"ex4answer\">Answer to Exercise 4</a>"
   ]
  },
  {
   "cell_type": "code",
   "execution_count": null,
   "metadata": {},
   "outputs": [],
   "source": [
    "data = np.array([1, 3, 2, 5, 7, 3, 4, 2])\n",
    "runningtotal = np.zeros_like(data)\n",
    "runningtotal[0] = data[0]\n",
    "for i in range(1, len(data)):\n",
    "    runningtotal[i] = runningtotal[i-1] + data[i]\n",
    "print('data values:', data)\n",
    "print('running total:', runningtotal)\n",
    "print('running total with numpy:', np.cumsum(data))"
   ]
  },
  {
   "cell_type": "markdown",
   "metadata": {},
   "source": [
    "<a href=\"#back4\">Back to Exercise 4</a>\n",
    "\n",
    "<a name=\"ex5answer\">Answer to Exercise 5</a>"
   ]
  },
  {
   "cell_type": "code",
   "execution_count": null,
   "metadata": {},
   "outputs": [],
   "source": [
    "temperature = np.loadtxt('holland_temperature.dat')\n",
    "print(temperature)\n",
    "monthindex = -1\n",
    "tdiff = 100.0\n",
    "for i in range(12):\n",
    "    if abs(temperature[i] - 15) < tdiff:\n",
    "        monthindex = i\n",
    "        tdiff = abs(temperature[i] - 15)\n",
    "print('Number of month closest to 15 degrees, temp: ', monthindex + 1, temperature[monthindex])\n",
    "print('Alternative method:')\n",
    "altmin = np.argmin(abs(temperature - 15))\n",
    "print('Number of month closest to 15 degrees, temp: ', altmin + 1, temperature[altmin])"
   ]
  },
  {
   "cell_type": "markdown",
   "metadata": {},
   "source": [
    "<a href=\"#back5\">Back to Exercise 5</a>\n",
    "\n",
    "<a name=\"ex6answer\">Answer to Exercise 6</a>"
   ]
  },
  {
   "cell_type": "code",
   "execution_count": null,
   "metadata": {},
   "outputs": [],
   "source": [
    "oilprice = np.loadtxt('oil_price_monthly.dat', delimiter=',')\n",
    "plt.plot(oilprice[:,2], 'b-')\n",
    "nrow, ncol = oilprice.shape\n",
    "months = ['January', 'February', 'March', 'April',\\\n",
    "          'May','June', 'July', 'August', 'September',\\\n",
    "          'October', 'November', 'December']\n",
    "for price in [40, 60, 80]:\n",
    "    for i in range(nrow):\n",
    "        if oilprice[i, 2] > price:\n",
    "            print(f'The oil price exceeds {price} euros for the first time in', \\\n",
    "                  f'{months[int(oilprice[i, 1])]} of {oilprice[i, 0]:.0f}')\n",
    "            break"
   ]
  },
  {
   "cell_type": "markdown",
   "metadata": {},
   "source": [
    "<a href=\"#back6\">Back to Exercise 6</a>\n",
    "\n",
    "<a name=\"ex7answer\">Answer to Exercise 7</a>"
   ]
  },
  {
   "cell_type": "code",
   "execution_count": null,
   "metadata": {},
   "outputs": [],
   "source": [
    "x = ['Aaldrich', 'Babette', 'Chris', 'Franka', 'Joe', 'Louisa', 'Pierre', 'Simone', 'Tarek', 'Yvonne', 'Zu']\n",
    "myname = 'Guido'\n",
    "for i in range(len(x)):\n",
    "    if myname < x[i]:\n",
    "        break\n",
    "print(myname, 'is between', x[i-1], 'and', x[i])"
   ]
  },
  {
   "cell_type": "markdown",
   "metadata": {},
   "source": [
    "<a href=\"#back7\">Back to Exercise 7</a>"
   ]
  }
 ],
 "metadata": {
  "kernelspec": {
   "display_name": "Python 3",
   "language": "python",
   "name": "python3"
  },
  "language_info": {
   "codemirror_mode": {
    "name": "ipython",
    "version": 3
   },
   "file_extension": ".py",
   "mimetype": "text/x-python",
   "name": "python",
   "nbconvert_exporter": "python",
   "pygments_lexer": "ipython3",
   "version": "3.8.2"
  },
  "latex_envs": {
   "LaTeX_envs_menu_present": true,
   "autoclose": false,
   "autocomplete": true,
   "bibliofile": "biblio.bib",
   "cite_by": "apalike",
   "current_citInitial": 1,
   "eqLabelWithNumbers": true,
   "eqNumInitial": 1,
   "hotkeys": {
    "equation": "Ctrl-E",
    "itemize": "Ctrl-I"
   },
   "labels_anchors": false,
   "latex_user_defs": false,
   "report_style_numbering": false,
   "user_envs_cfg": false
  },
  "varInspector": {
   "cols": {
    "lenName": 16,
    "lenType": 16,
    "lenVar": 40
   },
   "kernels_config": {
    "python": {
     "delete_cmd_postfix": "",
     "delete_cmd_prefix": "del ",
     "library": "var_list.py",
     "varRefreshCmd": "print(var_dic_list())"
    },
    "r": {
     "delete_cmd_postfix": ") ",
     "delete_cmd_prefix": "rm(",
     "library": "var_list.r",
     "varRefreshCmd": "cat(var_dic_list()) "
    }
   },
   "types_to_exclude": [
    "module",
    "function",
    "builtin_function_or_method",
    "instance",
    "_Feature"
   ],
   "window_display": false
  }
 },
 "nbformat": 4,
 "nbformat_minor": 4
}
